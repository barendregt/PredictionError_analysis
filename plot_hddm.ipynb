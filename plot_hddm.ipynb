{
 "cells": [
  {
   "cell_type": "code",
   "execution_count": 1,
   "metadata": {
    "collapsed": false
   },
   "outputs": [
    {
     "name": "stderr",
     "output_type": "stream",
     "text": [
      "/home/barendregt/programs/anaconda/envs/py2/lib/python2.7/site-packages/IPython/parallel.py:13: ShimWarning: The `IPython.parallel` package has been deprecated since IPython 4.0. You should import from ipyparallel instead.\n",
      "  \"You should import from ipyparallel instead.\", ShimWarning)\n"
     ]
    }
   ],
   "source": [
    "# IMPORTS\n",
    "from __future__ import division\n",
    "\n",
    "import numpy as np\n",
    "import scipy as sp\n",
    "\n",
    "import matplotlib\n",
    "\n",
    "import matplotlib.pyplot as plt\n",
    "\n",
    "from math import *\n",
    "import os,glob,sys,platform,time\n",
    "\n",
    "from collections import defaultdict\n",
    "\n",
    "import pickle\n",
    "import pandas as pd\n",
    "\n",
    "from IPython import embed\n",
    "\n",
    "import hddm\n",
    "import kabuki"
   ]
  },
  {
   "cell_type": "code",
   "execution_count": 2,
   "metadata": {
    "collapsed": true
   },
   "outputs": [],
   "source": [
    "# VARIABLES\n",
    "\n",
    "figure_dir = 'hddm/figures'\n",
    "model_dir = 'hddm/models'\n",
    "\n",
    "parameter_map = {'a':'threshold','v': 'drift-rate','t':'nd_time','z':'bias'}\n",
    "\n",
    "model_list = [{'name':'RT_and_pupil-v_and_t-hdf',\n",
    "                'parameters':['v','t'],\n",
    "                'poi_id':'C(trial_PE)',\n",
    "                'conditions_of_interest' : ['PP','UP','PU','UU'],\n",
    "                'interact_term':['','','','']},\n",
    "              {'name':'RT_and_pupil-v_and_t-hdf',\n",
    "                'parameters':['v'],\n",
    "                'poi_id':'C(trial_PE)',\n",
    "                'conditions_of_interest' : ['T.UP','T.PU','T.UU'],\n",
    "                'interact_term':[':pupil_response_1',':pupil_response_1',':pupil_response_1']},\n",
    "             ]\n"
   ]
  },
  {
   "cell_type": "code",
   "execution_count": 3,
   "metadata": {
    "collapsed": true
   },
   "outputs": [],
   "source": [
    "# HELPER FUNCTIONS\n",
    "\n",
    "def plot_posteriors(nodes, model_name = 'model', param_name = 'param', legend_labels = [], show = False, save = True):\n",
    "\n",
    "    hddm.analyze.plot_posterior_nodes(nodes)\n",
    "    plt.xlabel(param_name)\n",
    "    plt.ylabel('Posterior probability')\n",
    "\n",
    "    if len(legend_labels)==len(nodes):\n",
    "        plt.legend(legend_labels)\n",
    "\n",
    "    if show:\n",
    "        plt.show()\n",
    "\n",
    "    if save:\n",
    "        plt.savefig(os.path.join(figure_dir,'%s.%s.pdf'%(model_name,param_name)))\n",
    "\n",
    "    plt.close()\n",
    "\n",
    "\n",
    "def extract_node_params(model, model_num = 'combined', nodes_list = []):\n",
    "\n",
    "    if type(model)==str:\n",
    "        mdl = hddm.load('hddm/models/%s_%s'%(model['name'],model_num))\n",
    "    else:\n",
    "        mdl = model\n",
    "\n",
    "    nodes = defaultdict()\n",
    "\n",
    "    for param in model['parameters']:\n",
    "        nodes[param] = list()\n",
    "\n",
    "        for node_type, int_term in zip(nodes_list, model['interact_term']):\n",
    "            nodes[param].append(mdl.nodes_db.node['%s_%s[%s]%s'%(param,model['poi_id'],node_type,int_term)])\n",
    "    \n",
    "    return nodes"
   ]
  },
  {
   "cell_type": "code",
   "execution_count": null,
   "metadata": {
    "collapsed": true
   },
   "outputs": [],
   "source": [
    "# Just plot everything for every model\n",
    "\n",
    "for model in model_list:\n",
    "    nodes = extract_node_params(model, model_num = '0', nodes_list = model['conditions_of_interest'])\n",
    "\n",
    "    [plot_posteriors(nodes[p], model_name=model['name'], param_name=parameter_map[p], legend_labels=model['conditions_of_interest']) for p in model['parameters']]\n",
    "    "
   ]
  },
  {
   "cell_type": "code",
   "execution_count": null,
   "metadata": {
    "collapsed": true
   },
   "outputs": [],
   "source": [
    "model = model_list[0]\n",
    "\n",
    "nodes = extract_node_params(model, model_num ='0', nodes_list = model['conditions_of_interest'])\n",
    "\n",
    "[plot_posteriors(nodes[p], model_name=model['name'], param_name=parameter_map[p], legend_labels=model['conditions_of_interest']) for p in model['parameters']]"
   ]
  },
  {
   "cell_type": "code",
   "execution_count": null,
   "metadata": {
    "collapsed": true
   },
   "outputs": [],
   "source": [
    "model = \n"
   ]
  },
  {
   "cell_type": "code",
   "execution_count": 4,
   "metadata": {
    "collapsed": false
   },
   "outputs": [
    {
     "name": "stdout",
     "output_type": "stream",
     "text": [
      "WARNING: Custom link functions will not be loaded.\n"
     ]
    }
   ],
   "source": [
    "mdl = hddm.load('hddm/models/RT_and_pupil-v_and_t-hdf_0')\n",
    "#mdl = model\n",
    "model = model_list[0]\n",
    "# nodes = extract_node_params(model, model_num ='0', nodes_list = model['conditions_of_interest'])"
   ]
  },
  {
   "cell_type": "code",
   "execution_count": 5,
   "metadata": {
    "collapsed": true
   },
   "outputs": [],
   "source": [
    "nodes_list = model['conditions_of_interest']\n",
    "\n",
    "nodes = defaultdict()\n",
    "\n",
    "for param in model['parameters']:\n",
    "    nodes[param] = list()\n",
    "\n",
    "    for node_type, int_term in zip(nodes_list, model['interact_term']):\n",
    "        nodes[param].append(mdl.nodes_db.node['%s_%s[%s]%s'%(param,model['poi_id'],node_type,int_term)])"
   ]
  },
  {
   "cell_type": "code",
   "execution_count": 6,
   "metadata": {
    "collapsed": false
   },
   "outputs": [
    {
     "data": {
      "text/plain": [
       "[None, None]"
      ]
     },
     "execution_count": 6,
     "metadata": {},
     "output_type": "execute_result"
    }
   ],
   "source": [
    "[plot_posteriors(nodes[p], model_name=model['name'], param_name=parameter_map[p], legend_labels=model['conditions_of_interest']) for p in model['parameters']]"
   ]
  },
  {
   "cell_type": "code",
   "execution_count": 11,
   "metadata": {
    "collapsed": false
   },
   "outputs": [
    {
     "name": "stdout",
     "output_type": "stream",
     "text": [
      "0.0401490488302\n"
     ]
    }
   ],
   "source": [
    "print((nodes['v'][2].trace()-nodes['v'][3].trace()).mean())"
   ]
  },
  {
   "cell_type": "code",
   "execution_count": null,
   "metadata": {
    "collapsed": true
   },
   "outputs": [],
   "source": []
  }
 ],
 "metadata": {
  "kernelspec": {
   "display_name": "Python 3",
   "language": "python",
   "name": "python3"
  },
  "language_info": {
   "codemirror_mode": {
    "name": "ipython",
    "version": 3
   },
   "file_extension": ".py",
   "mimetype": "text/x-python",
   "name": "python",
   "nbconvert_exporter": "python",
   "pygments_lexer": "ipython3",
   "version": "3.6.0"
  }
 },
 "nbformat": 4,
 "nbformat_minor": 2
}
