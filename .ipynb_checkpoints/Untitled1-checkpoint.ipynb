{
 "cells": [
  {
   "cell_type": "code",
   "execution_count": 18,
   "metadata": {
    "collapsed": true
   },
   "outputs": [],
   "source": [
    "import numpy as np\n",
    "import scipy as sp\n",
    "\n",
    "import matplotlib.pyplot as plt\n",
    "%matplotlib inline\n",
    "import seaborn as sn\n",
    "\n",
    "import statsmodels.api as sm\n",
    "from statsmodels.formula.api import ols\n",
    "from statsmodels.stats.anova import anova_lm\n",
    "\n",
    "from numpy import *\n",
    "import scipy as sp\n",
    "from pandas import *\n",
    "# import readline\n",
    "# from rpy2.robjects.packages import importr\n",
    "# import rpy2.robjects as ro\n",
    "# import pandas.rpy.common as com\n",
    "# stats = importr('stats')\n",
    "# base = importr('base')\n",
    "\n",
    "from math import *\n",
    "import os,glob,sys,platform\n",
    "\n",
    "import pickle as pickle\n",
    "import pandas as pd\n",
    "\n",
    "from IPython import embed\n",
    "\n",
    "# sys.path.append('tools/')\n",
    "from BehaviorAnalyzer import BehaviorAnalyzer\n",
    "from PupilAnalyzer import PupilAnalyzer\n",
    "from Plotter import Plotter\n",
    "\n",
    "\n",
    "from analysis_parameters import *\n",
    "\n",
    "pl = Plotter(figure_folder = figfolder, linestylemap = linestylemap)"
   ]
  },
  {
   "cell_type": "code",
   "execution_count": 81,
   "metadata": {
    "collapsed": false
   },
   "outputs": [
    {
     "ename": "ValueError",
     "evalue": "all the input array dimensions except for the concatenation axis must match exactly",
     "output_type": "error",
     "traceback": [
      "\u001b[0;31m---------------------------------------------------------------------------\u001b[0m",
      "\u001b[0;31mValueError\u001b[0m                                Traceback (most recent call last)",
      "\u001b[0;32m<ipython-input-81-d0282d4ea7ff>\u001b[0m in \u001b[0;36m<module>\u001b[0;34m()\u001b[0m\n\u001b[1;32m     59\u001b[0m     \u001b[0;32mfor\u001b[0m \u001b[0;34m(\u001b[0m\u001b[0mkey\u001b[0m\u001b[0;34m,\u001b[0m\u001b[0msignals\u001b[0m\u001b[0;34m)\u001b[0m \u001b[0;32min\u001b[0m \u001b[0mpa\u001b[0m\u001b[0;34m.\u001b[0m\u001b[0mtrial_signals\u001b[0m\u001b[0;34m.\u001b[0m\u001b[0mitems\u001b[0m\u001b[0;34m(\u001b[0m\u001b[0;34m)\u001b[0m\u001b[0;34m:\u001b[0m\u001b[0;34m\u001b[0m\u001b[0m\n\u001b[1;32m     60\u001b[0m         \u001b[0;32mif\u001b[0m \u001b[0mlen\u001b[0m\u001b[0;34m(\u001b[0m\u001b[0msignals\u001b[0m\u001b[0;34m)\u001b[0m\u001b[0;34m>\u001b[0m\u001b[0;36m0\u001b[0m\u001b[0;34m:\u001b[0m\u001b[0;34m\u001b[0m\u001b[0m\n\u001b[0;32m---> 61\u001b[0;31m             \u001b[0msub_signals\u001b[0m\u001b[0;34m[\u001b[0m\u001b[0;34m'correct'\u001b[0m\u001b[0;34m]\u001b[0m\u001b[0;34m[\u001b[0m\u001b[0mcondition_keymap\u001b[0m\u001b[0;34m[\u001b[0m\u001b[0mkey\u001b[0m\u001b[0;34m]\u001b[0m\u001b[0;34m]\u001b[0m \u001b[0;34m=\u001b[0m \u001b[0mnp\u001b[0m\u001b[0;34m.\u001b[0m\u001b[0mappend\u001b[0m\u001b[0;34m(\u001b[0m\u001b[0msub_signals\u001b[0m\u001b[0;34m[\u001b[0m\u001b[0;34m'correct'\u001b[0m\u001b[0;34m]\u001b[0m\u001b[0;34m[\u001b[0m\u001b[0mcondition_keymap\u001b[0m\u001b[0;34m[\u001b[0m\u001b[0mkey\u001b[0m\u001b[0;34m]\u001b[0m\u001b[0;34m]\u001b[0m\u001b[0;34m,\u001b[0m \u001b[0msignals\u001b[0m\u001b[0;34m,\u001b[0m \u001b[0maxis\u001b[0m\u001b[0;34m=\u001b[0m\u001b[0;36m0\u001b[0m\u001b[0;34m)\u001b[0m\u001b[0;34m\u001b[0m\u001b[0m\n\u001b[0m\u001b[1;32m     62\u001b[0m \u001b[0;34m\u001b[0m\u001b[0m\n\u001b[1;32m     63\u001b[0m     \u001b[0;31m# Get trial-based, event-related, baseline-corrected signals centered on stimulus onset\u001b[0m\u001b[0;34m\u001b[0m\u001b[0;34m\u001b[0m\u001b[0m\n",
      "\u001b[0;32m/home/barendregt/programs/anaconda/lib/python3.6/site-packages/numpy/lib/function_base.py\u001b[0m in \u001b[0;36mappend\u001b[0;34m(arr, values, axis)\u001b[0m\n\u001b[1;32m   4584\u001b[0m         \u001b[0mvalues\u001b[0m \u001b[0;34m=\u001b[0m \u001b[0mravel\u001b[0m\u001b[0;34m(\u001b[0m\u001b[0mvalues\u001b[0m\u001b[0;34m)\u001b[0m\u001b[0;34m\u001b[0m\u001b[0m\n\u001b[1;32m   4585\u001b[0m         \u001b[0maxis\u001b[0m \u001b[0;34m=\u001b[0m \u001b[0marr\u001b[0m\u001b[0;34m.\u001b[0m\u001b[0mndim\u001b[0m\u001b[0;34m-\u001b[0m\u001b[0;36m1\u001b[0m\u001b[0;34m\u001b[0m\u001b[0m\n\u001b[0;32m-> 4586\u001b[0;31m     \u001b[0;32mreturn\u001b[0m \u001b[0mconcatenate\u001b[0m\u001b[0;34m(\u001b[0m\u001b[0;34m(\u001b[0m\u001b[0marr\u001b[0m\u001b[0;34m,\u001b[0m \u001b[0mvalues\u001b[0m\u001b[0;34m)\u001b[0m\u001b[0;34m,\u001b[0m \u001b[0maxis\u001b[0m\u001b[0;34m=\u001b[0m\u001b[0maxis\u001b[0m\u001b[0;34m)\u001b[0m\u001b[0;34m\u001b[0m\u001b[0m\n\u001b[0m\u001b[1;32m   4587\u001b[0m \u001b[0;34m\u001b[0m\u001b[0m\n",
      "\u001b[0;31mValueError\u001b[0m: all the input array dimensions except for the concatenation axis must match exactly"
     ]
    }
   ],
   "source": [
    "all_pupil_correct = {'UP': np.empty((0,int((stimulus_deconvolution_interval[1] - stimulus_deconvolution_interval[0])*(deconv_sample_frequency))),dtype=float),\n",
    "                     'PU': np.empty((0,int((stimulus_deconvolution_interval[1] - stimulus_deconvolution_interval[0])*(deconv_sample_frequency))),dtype=float)}\n",
    "\n",
    "all_pupil_incorrect = {'UP': np.empty((0,int((stimulus_deconvolution_interval[1] - stimulus_deconvolution_interval[0])*(deconv_sample_frequency))),dtype=float),\n",
    "                       'PU': np.empty((0,int((stimulus_deconvolution_interval[1] - stimulus_deconvolution_interval[0])*(deconv_sample_frequency))),dtype=float)}\n",
    "\n",
    "\n",
    "# power_signals_1 = {'correct': {'PP':[], 'UP':[],'PU':[],'UU':[]},\n",
    "#                  'incorrect': {'PP':[],'UP':[],'PU':[],'UU':[]}}\n",
    "# power_signals_2 = {'correct': {'PP':[], 'UP':[],'PU':[],'UU':[]},\n",
    "#                  'incorrect': {'PP':[],'UP':[],'PU':[],'UU':[]}}\n",
    "\n",
    "power_signals = pd.DataFrame(data=[], columns=['subID','trial_type','response','moment','power'])\n",
    "\n",
    "# embed()\n",
    "for subname in sublist:\n",
    "\n",
    "    # Organize filenames\n",
    "    rawfolder = os.path.join(raw_data_folder,subname)\n",
    "    sharedfolder = os.path.join(shared_data_folder,subname)\n",
    "    csvfilename = glob.glob(rawfolder + '/*.csv')#[-1]\n",
    "    h5filename = os.path.join(sharedfolder,subname+'.h5')\n",
    "    \n",
    "#     down_fs=1\n",
    "\n",
    "    # Initialize PA object\n",
    "    pa = PupilAnalyzer(subname, h5filename, rawfolder, reference_phase = 7, signal_downsample_factor = down_fs, signal_sample_frequency = signal_sample_frequency, deconv_sample_frequency = deconv_sample_frequency, deconvolution_interval = stimulus_deconvolution_interval, verbosity = 0)\n",
    "\n",
    "\n",
    "    # Combine signals based on condition\n",
    "\n",
    "#     sub_signals = {'correct': {'PP': np.empty((0,int((stimulus_deconvolution_interval[1] - stimulus_deconvolution_interval[0])*signal_sample_frequency)),dtype=float),\n",
    "#      'UP': np.empty((0,int((stimulus_deconvolution_interval[1] - stimulus_deconvolution_interval[0])*signal_sample_frequency)),dtype=float),\n",
    "#      'PU': np.empty((0,int((stimulus_deconvolution_interval[1] - stimulus_deconvolution_interval[0])*signal_sample_frequency)),dtype=float),\n",
    "#      'UU': np.empty((0,int((stimulus_deconvolution_interval[1] - stimulus_deconvolution_interval[0])*signal_sample_frequency)),dtype=float)},\n",
    "#      'incorrect': {'PP': np.empty((0,int((stimulus_deconvolution_interval[1] - stimulus_deconvolution_interval[0])*signal_sample_frequency)),dtype=float),\n",
    "#      'UP': np.empty((0,int((stimulus_deconvolution_interval[1] - stimulus_deconvolution_interval[0])*signal_sample_frequency)),dtype=float),\n",
    "#      'PU': np.empty((0,int((stimulus_deconvolution_interval[1] - stimulus_deconvolution_interval[0])*signal_sample_frequency)),dtype=float),\n",
    "#      'UU': np.empty((0,int((stimulus_deconvolution_interval[1] - stimulus_deconvolution_interval[0])*signal_sample_frequency)),dtype=float)}} \n",
    "   \n",
    "    \n",
    "    \n",
    "    pa.PR.deconvolution_interval = [0, 1.0]\n",
    "    stimulus_deconvolution_interval = [0, 1.0]\n",
    "    \n",
    "    sub_signals = {'correct': {'PP': np.empty((0,int((stimulus_deconvolution_interval[1] - stimulus_deconvolution_interval[0])*signal_sample_frequency)),dtype=float),\n",
    "     'UP': np.empty((0,int((stimulus_deconvolution_interval[1] - stimulus_deconvolution_interval[0])*signal_sample_frequency)),dtype=float),\n",
    "     'PU': np.empty((0,int((stimulus_deconvolution_interval[1] - stimulus_deconvolution_interval[0])*signal_sample_frequency)),dtype=float),\n",
    "     'UU': np.empty((0,int((stimulus_deconvolution_interval[1] - stimulus_deconvolution_interval[0])*signal_sample_frequency)),dtype=float)},\n",
    "     'incorrect': {'PP': np.empty((0,int((stimulus_deconvolution_interval[1] - stimulus_deconvolution_interval[0])*signal_sample_frequency)),dtype=float),\n",
    "     'UP': np.empty((0,int((stimulus_deconvolution_interval[1] - stimulus_deconvolution_interval[0])*signal_sample_frequency)),dtype=float),\n",
    "     'PU': np.empty((0,int((stimulus_deconvolution_interval[1] - stimulus_deconvolution_interval[0])*signal_sample_frequency)),dtype=float),\n",
    "     'UU': np.empty((0,int((stimulus_deconvolution_interval[1] - stimulus_deconvolution_interval[0])*signal_sample_frequency)),dtype=float)}} \n",
    "   \n",
    "\n",
    "    # Get trial-based, event-related, baseline-corrected signals centered on stimulus onset\n",
    "    pa.signal_per_trial(only_correct = True, only_incorrect = False, return_dt=False, reference_phase = 7, with_rt = False, baseline_type = 'relative', baseline_period = [-.5, 0.0], force_rebuild=False, down_sample = False, return_rt = True)\n",
    "\n",
    "    for (key,signals) in pa.trial_signals.items():\n",
    "        if len(signals)>0:\n",
    "            sub_signals['correct'][condition_keymap[key]] = np.append(sub_signals['correct'][condition_keymap[key]], signals, axis=0)\n",
    "\n",
    "    # Get trial-based, event-related, baseline-corrected signals centered on stimulus onset\n",
    "    pa.signal_per_trial(only_correct = False, only_incorrect = True, return_dt=False, reference_phase = 7, with_rt = False, baseline_type = 'relative', baseline_period = [-.5, 0.0], force_rebuild=False, down_sample = False, return_rt = True)\n",
    "\n",
    "    for (key,signals) in pa.trial_signals.items():\n",
    "        if len(signals)>0:\n",
    "            sub_signals['incorrect'][condition_keymap[key]] = np.append(sub_signals['incorrect'][condition_keymap[key]], signals, axis=0)\n",
    "            \n",
    "            \n",
    "    # Compute TPR\n",
    "    msignal = np.mean([np.mean([sub_signals['correct'][key].mean(axis=0) for key in ['PP','UP','PU','UU']], axis=0),np.mean([sub_signals['incorrect'][key].mean(axis=0) for key in ['PP','UP','PU','UU']], axis=0)],axis=0)#sub_signals['correct']['PP'].mean(axis=0)\n",
    "    msignal_norm = np.linalg.norm(msignal, ord=2)**2\n",
    "    \n",
    "    for key in ['UP','PU','UU']:\n",
    "        psignal = np.dot(sub_signals['correct'][key].mean(axis=0), msignal) / msignal_norm\n",
    "#         power_signals_1['correct'][key].append(psignal)\n",
    "        \n",
    "        power_signals = power_signals.append(other=pd.DataFrame(data=np.array([sublist.index(subname), key, 'correct', 1,psignal])[np.newaxis,:], columns=['subID','trial_type','response','moment','power']), ignore_index=True)\n",
    "            \n",
    "\n",
    "    # Compute TPR\n",
    "#     msignal = np.mean([sub_signals['incorrect'][key].mean(axis=0) for key in ['PP','UP','PU','UU']], axis=0)#sub_signals['incorrect']['PP'].mean(axis=0)\n",
    "#     msignal_norm = np.linalg.norm(msignal, ord=2)**2\n",
    "    \n",
    "    for key in ['UP','PU','UU']:\n",
    "        psignal = np.dot(sub_signals['incorrect'][key].mean(axis=0), msignal) / msignal_norm\n",
    "#         power_signals_1['incorrect'][key].append(psignal)\n",
    "#         power_signals = power_signals.append(other=[sublist.index(subname), key, 'incorrect', 1,psignal], ignore_index=True)\n",
    "        power_signals = power_signals.append(other=pd.DataFrame(data=np.array([sublist.index(subname), key, 'incorrect', 1,psignal])[np.newaxis,:], columns=['subID','trial_type','response','moment','power']), ignore_index=True)\n",
    "  \n",
    "    pa.PR.deconvolution_interval = [1.0, 2.0]\n",
    "    stimulus_deconvolution_interval = [1.0, 2.0]\n",
    "    \n",
    "    sub_signals = {'correct': {'PP': np.empty((0,int((stimulus_deconvolution_interval[1] - stimulus_deconvolution_interval[0])*signal_sample_frequency)),dtype=float),\n",
    "     'UP': np.empty((0,int((stimulus_deconvolution_interval[1] - stimulus_deconvolution_interval[0])*signal_sample_frequency)),dtype=float),\n",
    "     'PU': np.empty((0,int((stimulus_deconvolution_interval[1] - stimulus_deconvolution_interval[0])*signal_sample_frequency)),dtype=float),\n",
    "     'UU': np.empty((0,int((stimulus_deconvolution_interval[1] - stimulus_deconvolution_interval[0])*signal_sample_frequency)),dtype=float)},\n",
    "     'incorrect': {'PP': np.empty((0,int((stimulus_deconvolution_interval[1] - stimulus_deconvolution_interval[0])*signal_sample_frequency)),dtype=float),\n",
    "     'UP': np.empty((0,int((stimulus_deconvolution_interval[1] - stimulus_deconvolution_interval[0])*signal_sample_frequency)),dtype=float),\n",
    "     'PU': np.empty((0,int((stimulus_deconvolution_interval[1] - stimulus_deconvolution_interval[0])*signal_sample_frequency)),dtype=float),\n",
    "     'UU': np.empty((0,int((stimulus_deconvolution_interval[1] - stimulus_deconvolution_interval[0])*signal_sample_frequency)),dtype=float)}} \n",
    "    \n",
    "    \n",
    "\n",
    "\n",
    "    # Get trial-based, event-related, baseline-corrected signals centered on stimulus onset\n",
    "    pa.signal_per_trial(only_correct = True, only_incorrect = False, return_dt=False, reference_phase = 7, with_rt = False, baseline_type = 'relative', baseline_period = [-.5, 0.0], force_rebuild=False, down_sample = False, return_rt = True)\n",
    "\n",
    "    for (key,signals) in pa.trial_signals.items():\n",
    "        if len(signals)>0:\n",
    "            sub_signals['correct'][condition_keymap[key]] = np.append(sub_signals['correct'][condition_keymap[key]], signals, axis=0)\n",
    "    # Get trial-based, event-related, baseline-corrected signals centered on stimulus onset\n",
    "    pa.signal_per_trial(only_correct = False, only_incorrect = True, return_dt=False, reference_phase = 7, with_rt = False, baseline_type = 'relative', baseline_period = [-.5, 0.0], force_rebuild=False, down_sample = False, return_rt = True)\n",
    "\n",
    "    for (key,signals) in pa.trial_signals.items():\n",
    "        if len(signals)>0:\n",
    "            sub_signals['incorrect'][condition_keymap[key]] = np.append(sub_signals['incorrect'][condition_keymap[key]], signals, axis=0)\n",
    "\n",
    "            \n",
    "    # Compute TPR\n",
    "    msignal = np.mean([np.mean([sub_signals['correct'][key].mean(axis=0) for key in ['PP','UP','PU','UU']], axis=0),np.mean([sub_signals['incorrect'][key].mean(axis=0) for key in ['PP','UP','PU','UU']], axis=0)],axis=0)#sub_signals['correct']['PP'].mean(axis=0)\n",
    "#     msignal = np.mean([sub_signals['correct'][key].mean(axis=0) for key in ['PP','UP','PU','UU']], axis=0)#sub_signals['correct']['PP'].mean(axis=0)\n",
    "    msignal_norm = np.linalg.norm(msignal, ord=2)**2\n",
    "    \n",
    "    for key in ['UP','PU','UU']:\n",
    "        psignal = np.dot(sub_signals['correct'][key].mean(axis=0), msignal) / msignal_norm\n",
    "#         power_signals_2['correct'][key].append(psignal)\n",
    "#         power_signals = power_signals.append(other=[sublist.index(subname), key, 'correct', 2,psignal], ignore_index=True)\n",
    "        power_signals = power_signals.append(other=pd.DataFrame(data=np.array([sublist.index(subname), key, 'correct', 2,psignal])[np.newaxis,:], columns=['subID','trial_type','response','moment','power']), ignore_index=True) \n",
    "\n",
    "\n",
    "    # Compute TPR\n",
    "#     msignal = np.mean([sub_signals['incorrect'][key].mean(axis=0) for key in ['PP','UP','PU','UU']], axis=0)#ub_signals['incorrect']['PP'].mean(axis=0)\n",
    "#     msignal_norm = np.linalg.norm(msignal, ord=2)**2\n",
    "    \n",
    "    for key in ['UP','PU','UU']:\n",
    "        psignal = np.dot(sub_signals['incorrect'][key].mean(axis=0), msignal) / msignal_norm\n",
    "#         power_signals_2['incorrect'][key].append(psignal)    \n",
    "#         power_signals = power_signals.append(other=[sublist.index(subname), key, 'incorrect', 2,psignal], ignore_index=True)\n",
    "        power_signals = power_signals.append(other=pd.DataFrame(data=np.array([sublist.index(subname), key, 'incorrect', 2,psignal])[np.newaxis,:], columns=['subID','trial_type','response','moment','power']), ignore_index=True)\n",
    "    \n",
    "power_signals['power'] = power_signals['power'].astype(float)"
   ]
  },
  {
   "cell_type": "code",
   "execution_count": 79,
   "metadata": {
    "collapsed": false
   },
   "outputs": [
    {
     "data": {
      "text/plain": [
       "1"
      ]
     },
     "execution_count": 79,
     "metadata": {},
     "output_type": "execute_result"
    }
   ],
   "source": [
    "down_fs"
   ]
  },
  {
   "cell_type": "code",
   "execution_count": 47,
   "metadata": {
    "collapsed": false
   },
   "outputs": [],
   "source": [
    "# power_signals.head()\n",
    "power_signals['power'] = power_signals['power'].astype(float)"
   ]
  },
  {
   "cell_type": "code",
   "execution_count": 54,
   "metadata": {
    "collapsed": false
   },
   "outputs": [
    {
     "data": {
      "text/plain": [
       "<seaborn.axisgrid.FacetGrid at 0x7f4f04526898>"
      ]
     },
     "execution_count": 54,
     "metadata": {},
     "output_type": "execute_result"
    },
    {
     "data": {
      "image/png": "[encoded data removed]",
      "text/plain": [
       "<matplotlib.figure.Figure at 0x7f4f04423c50>"
      ]
     },
     "metadata": {},
     "output_type": "display_data"
    }
   ],
   "source": [
    "sn.factorplot(data=power_signals, x='trial_type', y='power', hue='response', col='moment', kind='bar', ci=68, sharey=True)"
   ]
  },
  {
   "cell_type": "code",
   "execution_count": 70,
   "metadata": {
    "collapsed": false
   },
   "outputs": [
    {
     "data": {
      "text/plain": [
       "0.0"
      ]
     },
     "execution_count": 70,
     "metadata": {},
     "output_type": "execute_result"
    }
   ],
   "source": [
    "# cordata = power_signals['power'][(power_signals['response']=='correct') *((power_signals['trial_type']=='UP')*(power_signals['moment']==1))]\n",
    "# incordata = power_signals['power'][(power_signals['response']=='incorrect') *((power_signals['trial_type']=='UP')*(power_signals['moment']==1))\n",
    "cordata_1 = power_signals.loc[lambda df: (df.response=='correct') & ((df.trial_type=='UP') & (df.moment=='2'))]['power']\n",
    "incordata_1 = power_signals.loc[lambda df: (df.response=='incorrect') & ((df.trial_type=='UP') & (df.moment=='2'))]['power']\n",
    "                                   \n",
    "cordata_2 = power_signals.loc[lambda df: (df.response=='correct') & ((df.trial_type=='UP') & (df.moment=='2'))]['power']\n",
    "incordata_2 = power_signals.loc[lambda df: (df.response=='incorrect') & ((df.trial_type=='UP') & (df.moment=='2'))]['power']\n",
    "\n",
    "np.sum(cordata_1-cordata_2)"
   ]
  }
 ],
 "metadata": {
  "kernelspec": {
   "display_name": "Python 3",
   "language": "python",
   "name": "python3"
  },
  "language_info": {
   "codemirror_mode": {
    "name": "ipython",
    "version": 3
   },
   "file_extension": ".py",
   "mimetype": "text/x-python",
   "name": "python",
   "nbconvert_exporter": "python",
   "pygments_lexer": "ipython3",
   "version": "3.6.0"
  }
 },
 "nbformat": 4,
 "nbformat_minor": 2
}
