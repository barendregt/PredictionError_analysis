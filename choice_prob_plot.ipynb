{
 "cells": [
  {
   "cell_type": "code",
   "execution_count": 1,
   "metadata": {
    "collapsed": false
   },
   "outputs": [
    {
     "name": "stderr",
     "output_type": "stream",
     "text": [
      "/home/barendregt/programs/anaconda/lib/python3.6/site-packages/ipykernel/__main__.py:17: FutureWarning: The pandas.rpy module is deprecated and will be removed in a future version. We refer to external packages like rpy2. \n",
      "See here for a guide on how to port your code to rpy2: http://pandas.pydata.org/pandas-docs/stable/r_interface.html\n"
     ]
    }
   ],
   "source": [
    "# Imports\n",
    "import numpy as np\n",
    "import scipy as sp\n",
    "\n",
    "import matplotlib.pyplot as plt\n",
    "import seaborn as sn\n",
    "\n",
    "# import statsmodels.api as sm\n",
    "# from statsmodels.formula.api import ols\n",
    "# from statsmodels.stats.anova import anova_lm\n",
    "# from numpy import *\n",
    "# import scipy as sp\n",
    "# from pandas import *\n",
    "\n",
    "from rpy2.robjects.packages import importr\n",
    "import rpy2.robjects as ro\n",
    "import pandas.rpy.common as com\n",
    "\n",
    "from math import *\n",
    "import os,glob,sys,platform\n",
    "\n",
    "from sklearn import svm\n",
    "from sklearn.metrics import roc_curve, auc\n",
    "from sklearn.model_selection import train_test_split\n",
    "from sklearn.preprocessing import label_binarize\n",
    "from sklearn.multiclass import OneVsRestClassifier\n",
    "\n",
    "import pickle as pickle\n",
    "import pandas as pd\n",
    "\n",
    "from IPython import embed\n",
    "\n",
    "from BehaviorAnalyzer import BehaviorAnalyzer\n",
    "from PupilAnalyzer import PupilAnalyzer\n",
    "from Plotter import Plotter\n",
    "\n",
    "\n",
    "from analysis_parameters import *"
   ]
  },
  {
   "cell_type": "code",
   "execution_count": 2,
   "metadata": {
    "collapsed": true
   },
   "outputs": [],
   "source": [
    "def fitcdf(x,s):\n",
    "\treturn sp.stats.norm.cdf(x,0,s)\n",
    "\n",
    "def estimate_auc(X,Y, niter = 1000):\n",
    "\n",
    "\ty = label_binarize(Y, classes=[0, 1])\n",
    "\tx = X[:,np.newaxis]\n",
    "\n",
    "\t# shuffle and split training and test sets\n",
    "\troc_auc = np.zeros((niter,1))\n",
    "\tfor i in range(niter):\n",
    "\t\tX_train, X_test, y_train, y_test = train_test_split(x, y, test_size=.5)\n",
    "\n",
    "\t\t# Learn to predict each class against the other\n",
    "\t\tclassifier = OneVsRestClassifier(svm.SVC(kernel='linear', probability=True))\n",
    "\t\ty_score = classifier.fit(X_train, y_train).decision_function(X_test)\n",
    "\n",
    "\t\t# Compute ROC curve and ROC area for each class\n",
    "\t\tfpr, tpr, _ = roc_curve(y_test, y_score)\n",
    "\t\troc_auc[i] = auc(fpr, tpr)\t\n",
    "\n",
    "\treturn roc_auc.mean()"
   ]
  },
  {
   "cell_type": "code",
   "execution_count": 3,
   "metadata": {
    "collapsed": true
   },
   "outputs": [],
   "source": [
    "# VARIABLES\n",
    "\n",
    "pl = Plotter(figure_folder = figfolder, linestylemap = linestylemap)\n",
    "\n",
    "condition_keymap = { 0: 'PP',  1: 'PP',\n",
    "\t\t\t\t\t10: 'PU', 20: 'PU',\n",
    "\t\t\t\t\t30: 'UU', 40: 'UU',\n",
    "\t\t\t\t\t50: 'UP', 60: 'UP'}\n",
    "\n",
    "inverse_keymap = {'PP': [0,1],\n",
    "\t\t\t\t  'UU': [30,40],\n",
    "\t\t\t\t  'PU': [10,20],\n",
    "\t\t\t\t  'UP': [50,60]}\n",
    "\n",
    "choice_prob = {'UP': np.empty((0,int((stimulus_deconvolution_interval[1] - stimulus_deconvolution_interval[0])*(deconv_sample_frequency))),dtype=float),\n",
    "\t\t\t   'PU': np.empty((0,int((stimulus_deconvolution_interval[1] - stimulus_deconvolution_interval[0])*(deconv_sample_frequency))),dtype=float)}\t \n",
    "\n",
    "all_pupil_correct = {'UP': np.empty((0,int((stimulus_deconvolution_interval[1] - stimulus_deconvolution_interval[0])*(deconv_sample_frequency))),dtype=float),\n",
    "\t\t\t\t\t 'PU': np.empty((0,int((stimulus_deconvolution_interval[1] - stimulus_deconvolution_interval[0])*(deconv_sample_frequency))),dtype=float)}\n",
    "\n",
    "all_pupil_incorrect = {'UP': np.empty((0,int((stimulus_deconvolution_interval[1] - stimulus_deconvolution_interval[0])*(deconv_sample_frequency))),dtype=float),\n",
    "\t\t\t\t\t   'PU': np.empty((0,int((stimulus_deconvolution_interval[1] - stimulus_deconvolution_interval[0])*(deconv_sample_frequency))),dtype=float)}\n"
   ]
  },
  {
   "cell_type": "code",
   "execution_count": 4,
   "metadata": {
    "collapsed": false
   },
   "outputs": [
    {
     "name": "stderr",
     "output_type": "stream",
     "text": [
      "/home/barendregt/programs/anaconda/lib/python3.6/site-packages/scipy/signal/signaltools.py:3073: FutureWarning:  Note: Decimate's zero_phase keyword argument will default to True in a future release. Until then, decimate defaults to one-way filtering for backwards compatibility. Ideally, always set this argument explicitly.\n",
      "  \"explicitly.\", FutureWarning)\n"
     ]
    }
   ],
   "source": [
    "# MAIN LOOP\n",
    "\n",
    "for subname in sublist:\n",
    "\n",
    "\t# Organize filenames\n",
    "\trawfolder = os.path.join(raw_data_folder,subname)\n",
    "\tsharedfolder = os.path.join(shared_data_folder,subname)\n",
    "\tcsvfilename = glob.glob(rawfolder + '/*.csv')#[-1]\n",
    "\th5filename = os.path.join(sharedfolder,subname+'.h5')\n",
    "\n",
    "\t# Initialize PA object\n",
    "\tpa = PupilAnalyzer(subname, h5filename, rawfolder, reference_phase = 7, signal_downsample_factor = down_fs, signal_sample_frequency = signal_sample_frequency, deconv_sample_frequency = deconv_sample_frequency, deconvolution_interval = stimulus_deconvolution_interval, verbosity = 0)\n",
    "\n",
    "\n",
    "\t# Combine signals based on condition\t\n",
    "\n",
    "\tsub_signals = {'correct': {'PP': np.empty((0,int((stimulus_deconvolution_interval[1] - stimulus_deconvolution_interval[0])*signal_sample_frequency)),dtype=float),\n",
    "\t\t\t\t\t\t\t\t 'UP': np.empty((0,int((stimulus_deconvolution_interval[1] - stimulus_deconvolution_interval[0])*signal_sample_frequency)),dtype=float),\n",
    "\t\t\t\t\t\t\t\t 'PU': np.empty((0,int((stimulus_deconvolution_interval[1] - stimulus_deconvolution_interval[0])*signal_sample_frequency)),dtype=float),\n",
    "\t\t\t\t\t\t\t\t 'UU': np.empty((0,int((stimulus_deconvolution_interval[1] - stimulus_deconvolution_interval[0])*signal_sample_frequency)),dtype=float)},\n",
    "\t\t\t\t\t\t\t\t 'incorrect': {'PP': np.empty((0,int((stimulus_deconvolution_interval[1] - stimulus_deconvolution_interval[0])*signal_sample_frequency)),dtype=float),\n",
    "\t\t\t\t\t\t\t\t 'UP': np.empty((0,int((stimulus_deconvolution_interval[1] - stimulus_deconvolution_interval[0])*signal_sample_frequency)),dtype=float),\n",
    "\t\t\t\t\t\t\t\t 'PU': np.empty((0,int((stimulus_deconvolution_interval[1] - stimulus_deconvolution_interval[0])*signal_sample_frequency)),dtype=float),\n",
    "\t\t\t\t\t\t\t\t 'UU': np.empty((0,int((stimulus_deconvolution_interval[1] - stimulus_deconvolution_interval[0])*signal_sample_frequency)),dtype=float)}}\t\t \n",
    "\n",
    "\n",
    "\tsub_rts = {'correct': {'PP': [],\n",
    "\t\t\t\t\t 'UP': [],\n",
    "\t\t\t\t\t 'PU': [],\n",
    "\t\t\t\t\t 'UU': []},\n",
    "\t\t\t\t\t 'incorrect': {'PP': [],\n",
    "\t\t\t\t\t 'UP': [],\n",
    "\t\t\t\t\t 'PU': [],\n",
    "\t\t\t\t\t 'UU': []}}\t\n",
    "\n",
    "\t# Get trial-based, event-related, baseline-corrected signals centered on stimulus onset\n",
    "\tpa.signal_per_trial(only_correct = True, only_incorrect = False, return_dt=False, reference_phase = 7, with_rt = False, baseline_type = 'relative', baseline_period = [-.5, 0.0], force_rebuild=False, down_sample = False, return_rt = True)\n",
    "\n",
    "\tfor (key,signals) in pa.trial_signals.items():\n",
    "\t\tif len(signals)>0:\n",
    "\t\t\tsub_signals['correct'][condition_keymap[key]] = np.append(sub_signals['correct'][condition_keymap[key]], signals, axis=0)\n",
    "\n",
    "\t# Get trial-based, event-related, baseline-corrected signals centered on stimulus onset\n",
    "\tpa.signal_per_trial(only_correct = False, only_incorrect = True, return_dt=False, reference_phase = 7, with_rt = False, baseline_type = 'relative', baseline_period = [-.5, 0.0], force_rebuild=False, down_sample = False, return_rt = True)\n",
    "\n",
    "\tfor (key,signals) in pa.trial_signals.items():\n",
    "\t\tif len(signals)>0:\n",
    "\t\t\tsub_signals['incorrect'][condition_keymap[key]] = np.append(sub_signals['incorrect'][condition_keymap[key]], signals, axis=0)\n",
    "\n",
    "\n",
    "\tbase_correct = sp.signal.decimate(sub_signals['correct']['PP'],down_fs,1)\n",
    "\tbase_incorrect = sp.signal.decimate(sub_signals['incorrect']['PP'],down_fs,1)\n",
    "\n",
    "\tpupil_correct = {'UP': sp.signal.decimate(sub_signals['correct']['UP'],down_fs,1),\n",
    "\t\t\t\t\t 'PU': sp.signal.decimate(sub_signals['correct']['PU'],down_fs,1)}\n",
    "\n",
    "\tpupil_incorrect = {'UP': sp.signal.decimate(sub_signals['incorrect']['UP'],down_fs,1),\n",
    "\t\t\t\t\t   'PU': sp.signal.decimate(sub_signals['incorrect']['PU'],down_fs,1)}\n",
    "\n",
    "\n",
    "\tpupil_correct_nobase = {'UP': sp.signal.decimate(sub_signals['correct']['UP'],down_fs,1) - base_correct.mean(axis=0),\n",
    "\t\t\t\t\t 'PU': sp.signal.decimate(sub_signals['correct']['PU'],down_fs,1) - base_correct.mean(axis=0)}\n",
    "\n",
    "\tpupil_incorrect_nobase = {'UP': sp.signal.decimate(sub_signals['incorrect']['UP'],down_fs,1) - base_incorrect.mean(axis=0),\n",
    "\t\t\t\t\t   'PU': sp.signal.decimate(sub_signals['incorrect']['PU'],down_fs,1) - base_incorrect.mean(axis=0)}\n",
    "\n",
    "\n",
    "\tpupil_correct_dt = {}\t\t\t\t\t   \n",
    "\tpupil_incorrect_dt = {}\n",
    "\n",
    "\tpupil_correct_dt['UP'] = np.diff(pupil_correct_nobase['UP'])\n",
    "\tpupil_incorrect_dt['UP'] = np.diff(pupil_incorrect_nobase['UP'])\n",
    "\tpupil_correct_dt['PU'] = np.diff(pupil_correct_nobase['PU'])\n",
    "\tpupil_incorrect_dt['PU'] = np.diff(pupil_incorrect_nobase['PU'])    \n",
    "\n",
    "\t\n",
    "\tsub_choice_prob = {'UP': np.zeros((pupil_correct['UP'].shape[1])), \n",
    "\t\t\t\t\t   'PU': np.zeros((pupil_correct['PU'].shape[1]))}\n",
    "\n",
    "\tfor key in list(choice_prob.keys()):\n",
    "\t\tfor t in range(0,pupil_correct_nobase[key].shape[1]):\t\n",
    "\t\t\tt0_correct = pupil_correct_nobase[key][:,t]\n",
    "\t\t\tt0_incorrect = pupil_incorrect_nobase[key][:,t]\n",
    "\n",
    "\t\t\tpdata = np.hstack([t0_correct, t0_incorrect])\n",
    "\t\t\tcdata = np.hstack([np.ones((t0_correct.shape[0],)), np.zeros((t0_incorrect.shape[0],))])\n",
    "\n",
    "\t\t\t#sub_choice_prob[key][t] = estimate_auc(pdata, cdata, niter=100)\n",
    "\n",
    "\t\t\t#cdf_param = sp.optimize.curve_fit(fitcdf, pdata, cdata, p0=[.5])[0]\n",
    "\n",
    "\t\t\tfpr, tpr, _ = roc_curve(cdata, pdata)#sp.stats.norm.cdf(pdata,0,cdf_param))\n",
    "\t\t\tsub_choice_prob[key][t] = auc(fpr, tpr)\n",
    "\n",
    "\t\n",
    "\t\tchoice_prob[key] = np.append(choice_prob[key], sub_choice_prob[key][np.newaxis,:], axis=0)"
   ]
  },
  {
   "cell_type": "code",
   "execution_count": 10,
   "metadata": {
    "collapsed": false
   },
   "outputs": [
    {
     "data": {
      "image/png": "[encoded data removed]",
      "text/plain": [
       "<matplotlib.figure.Figure at 0x7ff8628c4b70>"
      ]
     },
     "metadata": {},
     "output_type": "display_data"
    }
   ],
   "source": [
    "# PLOT STUFF\n",
    "\n",
    "smooth_factor = 10# deconv_sample_frequency\n",
    "\n",
    "# embed()\n",
    "\n",
    "pl.open_figure(force=1)\n",
    "\n",
    "# pl.subplot(1,2,1)\n",
    "\n",
    "pl.hline(0.5)\n",
    "#pl.event_related_pupil_average(choice_prob,conditions=['UP'],signal_labels={'UP':'TaskRel/dt'},x_lim=[80,200],xticks=[100,110,120,130,140,150,200,250],xticklabels=[0,.1,.2,.3,.4,.5,1,1.5], compute_mean=True,compute_sd=True,show_legend=True, ylabel='Choice probability', y_lim=[0.4,0.6], with_stats=True, stats_ttest_ref=0.5, sig_marker_ypos = 0.41, after_smooth=True, after_smooth_factor = 50)\n",
    "pl.event_related_pupil_average(choice_prob,conditions=['UP','PU'],signal_labels=keymap_to_words,\n",
    "                              x_lim=[0.8*50,4.5*50],xticks=np.arange(0.5*50,5.0*50,0.5*50),xticklabels=np.arange(-0.5,4.5,0.5),\n",
    "                              ylabel='Choice probability', y_lim=[0.4,0.6], \n",
    "                              with_stats=True, stats_ttest_ref=0.5, stats_ttest_p = 0.2, sig_marker_ypos = 0.41, compute_mean=True, compute_sd =True, mark_first_sig = False,\n",
    "                              smooth_signal=False, smooth_factor=smooth_factor,\n",
    "                              after_smooth=True,after_smooth_window=11)\n",
    "# pl.vline(107, label='70ms', linestyle='solid')\n",
    "pl.show()\n",
    "pl.save_figure(filename='choice_probs_smooth.pdf', sub_folder='over_subs')"
   ]
  }
 ],
 "metadata": {
  "kernelspec": {
   "display_name": "Python 3",
   "language": "python",
   "name": "python3"
  },
  "language_info": {
   "codemirror_mode": {
    "name": "ipython",
    "version": 3
   },
   "file_extension": ".py",
   "mimetype": "text/x-python",
   "name": "python",
   "nbconvert_exporter": "python",
   "pygments_lexer": "ipython3",
   "version": "3.6.0"
  }
 },
 "nbformat": 4,
 "nbformat_minor": 2
}
